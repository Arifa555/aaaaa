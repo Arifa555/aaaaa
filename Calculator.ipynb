{
  "nbformat": 4,
  "nbformat_minor": 0,
  "metadata": {
    "colab": {
      "provenance": [],
      "authorship_tag": "ABX9TyPwEFNoHzZ4iT6706To6SQj",
      "include_colab_link": true
    },
    "kernelspec": {
      "name": "python3",
      "display_name": "Python 3"
    },
    "language_info": {
      "name": "python"
    }
  },
  "cells": [
    {
      "cell_type": "markdown",
      "metadata": {
        "id": "view-in-github",
        "colab_type": "text"
      },
      "source": [
        "<a href=\"https://colab.research.google.com/github/Arifa555/aaaaa/blob/main/Calculator.ipynb\" target=\"_parent\"><img src=\"https://colab.research.google.com/assets/colab-badge.svg\" alt=\"Open In Colab\"/></a>"
      ]
    },
    {
      "cell_type": "code",
      "source": [
        "\n",
        "file_path = r\"/content/drive/My Drive/Python-Django/SimCal.py\"\n",
        "\n",
        "with open(file_path, \"r\") as file:\n",
        "    content = file.read()\n",
        "\n",
        "print(content)  # Display the content of the .py file\n",
        "\n",
        "\n",
        "\n",
        "file_path = r\"/content/drive/My Drive/Python-Django/SimCal.py\"\n",
        "\n",
        "with open(file_path, \"r\") as file:\n",
        "    exec(file.read())  # Executes the Python script\n",
        "\n",
        "\n",
        "\n",
        "file_path = r\"/content/drive/My Drive/Python-Django/TestCal.py\"\n",
        "\n",
        "with open(file_path, \"r\") as file:\n",
        "    content = file.read()\n",
        "\n",
        "print(content)  # Display the content of the .py file\n",
        "\n",
        "\n",
        "file_path = r\"/content/drive/My Drive/Python-Django/TestCal.py\"\n",
        "\n",
        "with open(file_path, \"r\") as file:\n",
        "    exec(file.read())  # Executes the Python script\n",
        "\n",
        "\n",
        "\n",
        "\n",
        "%run SimCal.py\n",
        "\n",
        "import SimCal as s\n",
        "\n",
        "\n",
        "# SimCal.py\n",
        "\n",
        "def add(a, b):\n",
        "    return a + b\n",
        "\n",
        "def sub(a, b):\n",
        "    return abs(a - b)\n",
        "\n",
        "def mul(a, b):\n",
        "    return a * b\n",
        "\n",
        "def div(a, b):\n",
        "    return a / b if b != 0 else \"Infinity\"\n",
        "\n",
        "def pow(a, b):\n",
        "    return a ** b\n",
        "\n",
        "def mod(a, b):\n",
        "    return a % b\n",
        "\n",
        "# TestCal.py\n",
        "\n",
        "import SimCal as s\n",
        "\n",
        "while True:\n",
        "    print(\"Enter 1 to add, \\n2 to subtract, \\n3 for multiplication, \\n4 for division, \\n5 for power, \\n6 for modulus, \\n0 to exit\")\n",
        "\n",
        "    choice = int(input(\"Your Choice: \"))\n",
        "\n",
        "    if choice == 0:\n",
        "        break\n",
        "\n",
        "    a = int(input(\"Enter a: \"))\n",
        "    b = int(input(\"Enter b: \"))\n",
        "\n",
        "    if choice == 1:\n",
        "        print(s.add(a, b))\n",
        "    elif choice == 2:\n",
        "        print(s.sub(a, b))\n",
        "    elif choice == 3:\n",
        "        print(s.mul(a, b))\n",
        "    elif choice == 4:\n",
        "        print(s.div(a, b))\n",
        "    elif choice == 5:\n",
        "        print(s.pow(a, b))\n",
        "    elif choice == 6:\n",
        "        print(s.mod(a, b))\n",
        "    else:\n",
        "        print(\"Invalid choice. Please try again.\")"
      ],
      "metadata": {
        "id": "h1Y7QpytDEYh"
      },
      "execution_count": null,
      "outputs": []
    }
  ]
}